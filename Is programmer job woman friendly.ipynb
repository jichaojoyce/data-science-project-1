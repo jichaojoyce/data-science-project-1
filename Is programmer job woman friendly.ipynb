{
  "nbformat": 4,
  "nbformat_minor": 0,
  "metadata": {
    "colab": {
      "name": "Untitled0.ipynb",
      "provenance": []
    },
    "kernelspec": {
      "name": "python3",
      "display_name": "Python 3"
    }
  },
  "cells": [
    {
      "cell_type": "markdown",
      "metadata": {
        "id": "StyDa1q17uUH",
        "colab_type": "text"
      },
      "source": [
        "# Is programmer job woman friendly? \n",
        "**Business Understanding**"
      ]
    },
    {
      "cell_type": "markdown",
      "metadata": {
        "id": "dgYATP5o-kNB",
        "colab_type": "text"
      },
      "source": [
        "I myself, as a woman from Asia and plan to start my career in the field of data science. I have several questions in my mind based on the Stack Overflow survey data as follow.\n",
        "\n",
        "\n",
        "*   Does woman make less money than man?\n",
        "*   Does women satisfy their job as man?\n",
        "*   Which contury offer woman high salary? "
      ]
    },
    {
      "cell_type": "markdown",
      "metadata": {
        "id": "m68_k8ub-ALR",
        "colab_type": "text"
      },
      "source": [
        "**Data Understanding**"
      ]
    },
    {
      "cell_type": "markdown",
      "metadata": {
        "id": "1jYOJIqR_t5n",
        "colab_type": "text"
      },
      "source": [
        "First, we take a look at the data. "
      ]
    },
    {
      "cell_type": "code",
      "metadata": {
        "id": "I9XzJIK8AAnf",
        "colab_type": "code",
        "colab": {}
      },
      "source": [
        "import numpy as np\n",
        "import pandas as pd\n",
        "import matplotlib.pyplot as plt\n",
        "from google.colab import files"
      ],
      "execution_count": 0,
      "outputs": []
    },
    {
      "cell_type": "code",
      "metadata": {
        "id": "s10Yc_CTArAw",
        "colab_type": "code",
        "colab": {
          "base_uri": "https://localhost:8080/",
          "height": 163
        },
        "outputId": "dd51a3b6-051a-4986-b1d6-e24958df8583"
      },
      "source": [
        "df = pd.read_csv('survey-results-public.csv')\n",
        "df.head();\n",
        "df.columns"
      ],
      "execution_count": 35,
      "outputs": [
        {
          "output_type": "execute_result",
          "data": {
            "text/plain": [
              "Index(['Respondent', 'Professional', 'ProgramHobby', 'Country', 'University',\n",
              "       'EmploymentStatus', 'FormalEducation', 'MajorUndergrad', 'HomeRemote',\n",
              "       'CompanySize',\n",
              "       ...\n",
              "       'StackOverflowMakeMoney', 'Gender', 'HighestEducationParents', 'Race',\n",
              "       'SurveyLong', 'QuestionsInteresting', 'QuestionsConfusing',\n",
              "       'InterestedAnswers', 'Salary', 'ExpectedSalary'],\n",
              "      dtype='object', length=154)"
            ]
          },
          "metadata": {
            "tags": []
          },
          "execution_count": 35
        }
      ]
    },
    {
      "cell_type": "code",
      "metadata": {
        "id": "XCxqDkNTBD2A",
        "colab_type": "code",
        "colab": {
          "base_uri": "https://localhost:8080/",
          "height": 408
        },
        "outputId": "aa5c405a-7e4c-4b0f-8c89-3796b4fe7c1d"
      },
      "source": [
        "gener = df['Gender'].value_counts()\n",
        "(gener[:5]/df.shape[0]).plot(kind='bar');\n",
        "plt.title('Gender')"
      ],
      "execution_count": 42,
      "outputs": [
        {
          "output_type": "execute_result",
          "data": {
            "text/plain": [
              "Text(0.5, 1.0, 'Gender')"
            ]
          },
          "metadata": {
            "tags": []
          },
          "execution_count": 42
        },
        {
          "output_type": "display_data",
          "data": {
            "image/png": "[encoded data removed]",
            "text/plain": [
              "<Figure size 432x288 with 1 Axes>"
            ]
          },
          "metadata": {
            "tags": [],
            "needs_background": "light"
          }
        }
      ]
    },
    {
      "cell_type": "code",
      "metadata": {
        "id": "h7tfJ1quDadb",
        "colab_type": "code",
        "colab": {
          "base_uri": "https://localhost:8080/",
          "height": 311
        },
        "outputId": "835fa270-52b9-4dc5-f818-ee3c9fc517f2"
      },
      "source": [
        "sati=df['JobSatisfaction'].value_counts()\n",
        "(sati[:]/df.shape[0]).plot(kind='bar');\n",
        "plt.title('JobSatisfaction')"
      ],
      "execution_count": 38,
      "outputs": [
        {
          "output_type": "execute_result",
          "data": {
            "text/plain": [
              "Text(0.5, 1.0, 'JobSatisfaction')"
            ]
          },
          "metadata": {
            "tags": []
          },
          "execution_count": 38
        },
        {
          "output_type": "display_data",
          "data": {
            "image/png": "[encoded data removed]",
            "text/plain": [
              "<Figure size 432x288 with 1 Axes>"
            ]
          },
          "metadata": {
            "tags": [],
            "needs_background": "light"
          }
        }
      ]
    },
    {
      "cell_type": "code",
      "metadata": {
        "id": "cJ6mycAfELCr",
        "colab_type": "code",
        "colab": {
          "base_uri": "https://localhost:8080/",
          "height": 385
        },
        "outputId": "e65fbcec-45d4-46a1-8aef-b85d67d67d3b"
      },
      "source": [
        "cont=df['Country'].value_counts()\n",
        "(cont[:10]/df.shape[0]).plot(kind='bar');\n",
        "plt.title('Country')"
      ],
      "execution_count": 40,
      "outputs": [
        {
          "output_type": "execute_result",
          "data": {
            "text/plain": [
              "Text(0.5, 1.0, 'Country')"
            ]
          },
          "metadata": {
            "tags": []
          },
          "execution_count": 40
        },
        {
          "output_type": "display_data",
          "data": {
            "image/png": "[encoded data removed]",
            "text/plain": [
              "<Figure size 432x288 with 1 Axes>"
            ]
          },
          "metadata": {
            "tags": [],
            "needs_background": "light"
          }
        }
      ]
    },
    {
      "cell_type": "markdown",
      "metadata": {
        "id": "7r9EH0O5E_DT",
        "colab_type": "text"
      },
      "source": [
        "**Data preparation**"
      ]
    },
    {
      "cell_type": "markdown",
      "metadata": {
        "id": "d4MNK838Ffdx",
        "colab_type": "text"
      },
      "source": [
        "First, I will group the gender into three group: male, female and other."
      ]
    },
    {
      "cell_type": "code",
      "metadata": {
        "id": "4sSlTs8EFzE3",
        "colab_type": "code",
        "colab": {}
      },
      "source": [
        "def divide_gender(df):\n",
        "  # Return a datafram with gender separate into man, woman and other\n",
        "  # Input: a raw dataframe\n",
        "  # Output: a dataframe with a new column man, woman and other\n",
        "  man = ['Male']\n",
        "  woman = ['Female']\n",
        "  df['man_or_woman'] = df['Gender'].apply(lambda x: 'man' if x in man else ('woman' if x in woman else 'other'))\n",
        "  return df"
      ],
      "execution_count": 0,
      "outputs": []
    },
    {
      "cell_type": "code",
      "metadata": {
        "id": "UbwtHjsieFFU",
        "colab_type": "code",
        "colab": {}
      },
      "source": [
        "def handling_country(df):\n",
        "    #Return a dataframe with the first 10 country \n",
        "    #input: a raw data dataframe\n",
        "    #output: a dataframe with a new column the first 10 country\n",
        "\n",
        "    american = ['United States', 'Canada']\n",
        "    asia = ['India']\n",
        "    uk = ['United Kingdom']\n",
        "    euro = ['Germany','France','Spain', 'Poland','Russian Federation']\n",
        "    aus = ['Austrialia']\n",
        "    \n",
        "    #Add a new catagory seperating to western and eastern\n",
        "    df['first_or_other'] = df['Country'].apply(lambda x: 'american' if x in american else ('asia' if x in asia else ('aus' if x in aus else ('euro' if x in euro else('uk' if x in uk else 'other')))))\n",
        "    return df"
      ],
      "execution_count": 0,
      "outputs": []
    },
    {
      "cell_type": "markdown",
      "metadata": {
        "id": "sNTTbcpsHoXY",
        "colab_type": "text"
      },
      "source": [
        "Then, we filter the unnecessary data and get the needed information. "
      ]
    },
    {
      "cell_type": "code",
      "metadata": {
        "id": "fqRsVp8cHwJI",
        "colab_type": "code",
        "colab": {}
      },
      "source": [
        "def data_preparation(df):\n",
        "    \n",
        "    #Return useful columns with query condition\n",
        "    #input: a raw data dataframe\n",
        "    #output: a filtered dataframe with only needed columns\n",
        "    columns_needed = ['Country','first_or_other','man_or_woman','YearsCodedJob', 'EmploymentStatus', 'CareerSatisfaction', 'JobSatisfaction', 'HoursPerWeek', 'Salary']\n",
        "    filtered = pd.DataFrame(df)[columns_needed]\n",
        "    return filtered"
      ],
      "execution_count": 0,
      "outputs": []
    },
    {
      "cell_type": "code",
      "metadata": {
        "id": "ZUJRuUYBP0cT",
        "colab_type": "code",
        "colab": {
          "base_uri": "https://localhost:8080/",
          "height": 198
        },
        "outputId": "e65b89ef-b25b-4d7a-81a8-5b21bfba45e3"
      },
      "source": [
        "df = divide_gender(df)\n",
        "df = handling_country(df)\n",
        "useful_df = data_preparation(df)\n",
        "useful_df.head()"
      ],
      "execution_count": 163,
      "outputs": [
        {
          "output_type": "execute_result",
          "data": {
            "text/html": [
              "<div>\n",
              "<style scoped>\n",
              "    .dataframe tbody tr th:only-of-type {\n",
              "        vertical-align: middle;\n",
              "    }\n",
              "\n",
              "    .dataframe tbody tr th {\n",
              "        vertical-align: top;\n",
              "    }\n",
              "\n",
              "    .dataframe thead th {\n",
              "        text-align: right;\n",
              "    }\n",
              "</style>\n",
              "<table border=\"1\" class=\"dataframe\">\n",
              "  <thead>\n",
              "    <tr style=\"text-align: right;\">\n",
              "      <th></th>\n",
              "      <th>Country</th>\n",
              "      <th>first_or_other</th>\n",
              "      <th>man_or_woman</th>\n",
              "      <th>YearsCodedJob</th>\n",
              "      <th>EmploymentStatus</th>\n",
              "      <th>CareerSatisfaction</th>\n",
              "      <th>JobSatisfaction</th>\n",
              "      <th>HoursPerWeek</th>\n",
              "      <th>Salary</th>\n",
              "    </tr>\n",
              "  </thead>\n",
              "  <tbody>\n",
              "    <tr>\n",
              "      <th>0</th>\n",
              "      <td>United States</td>\n",
              "      <td>american</td>\n",
              "      <td>man</td>\n",
              "      <td>NaN</td>\n",
              "      <td>Not employed, and not looking for work</td>\n",
              "      <td>NaN</td>\n",
              "      <td>NaN</td>\n",
              "      <td>0.0</td>\n",
              "      <td>NaN</td>\n",
              "    </tr>\n",
              "    <tr>\n",
              "      <th>1</th>\n",
              "      <td>United Kingdom</td>\n",
              "      <td>uk</td>\n",
              "      <td>man</td>\n",
              "      <td>NaN</td>\n",
              "      <td>Employed part-time</td>\n",
              "      <td>NaN</td>\n",
              "      <td>NaN</td>\n",
              "      <td>NaN</td>\n",
              "      <td>NaN</td>\n",
              "    </tr>\n",
              "    <tr>\n",
              "      <th>2</th>\n",
              "      <td>United Kingdom</td>\n",
              "      <td>uk</td>\n",
              "      <td>man</td>\n",
              "      <td>20 or more years</td>\n",
              "      <td>Employed full-time</td>\n",
              "      <td>8.0</td>\n",
              "      <td>9.0</td>\n",
              "      <td>NaN</td>\n",
              "      <td>113750.0</td>\n",
              "    </tr>\n",
              "    <tr>\n",
              "      <th>3</th>\n",
              "      <td>United States</td>\n",
              "      <td>american</td>\n",
              "      <td>man</td>\n",
              "      <td>9 to 10 years</td>\n",
              "      <td>Employed full-time</td>\n",
              "      <td>6.0</td>\n",
              "      <td>3.0</td>\n",
              "      <td>5.0</td>\n",
              "      <td>NaN</td>\n",
              "    </tr>\n",
              "    <tr>\n",
              "      <th>4</th>\n",
              "      <td>Switzerland</td>\n",
              "      <td>other</td>\n",
              "      <td>other</td>\n",
              "      <td>10 to 11 years</td>\n",
              "      <td>Employed full-time</td>\n",
              "      <td>6.0</td>\n",
              "      <td>8.0</td>\n",
              "      <td>NaN</td>\n",
              "      <td>NaN</td>\n",
              "    </tr>\n",
              "  </tbody>\n",
              "</table>\n",
              "</div>"
            ],
            "text/plain": [
              "          Country first_or_other  ... HoursPerWeek    Salary\n",
              "0   United States       american  ...          0.0       NaN\n",
              "1  United Kingdom             uk  ...          NaN       NaN\n",
              "2  United Kingdom             uk  ...          NaN  113750.0\n",
              "3   United States       american  ...          5.0       NaN\n",
              "4     Switzerland          other  ...          NaN       NaN\n",
              "\n",
              "[5 rows x 9 columns]"
            ]
          },
          "metadata": {
            "tags": []
          },
          "execution_count": 163
        }
      ]
    },
    {
      "cell_type": "markdown",
      "metadata": {
        "id": "IFvVw5FxY6hx",
        "colab_type": "text"
      },
      "source": [
        "Divide the category factor 'years of code' into numerical data "
      ]
    },
    {
      "cell_type": "code",
      "metadata": {
        "id": "mKSJpyu-ZOgx",
        "colab_type": "code",
        "colab": {}
      },
      "source": [
        "def jobexperience(df):    \n",
        "    #Convert category to  for calculating the mean  \n",
        "    #Input: a categorical dataframe that will be converted to numeric dataframe\n",
        "    #Output: a converted dataframe with YearsCodedJob column becomes measurable\n",
        "\n",
        "    year_map = {'1 to 2 years' : 1, \n",
        "                '10 to 11 years' : 10, \n",
        "                '11 to 12 years' : 11, \n",
        "                '12 to 13 years' : 12,\n",
        "                '13 to 14 years' : 13, \n",
        "                '14 to 15 years' : 14, \n",
        "                '15 to 16 years' : 15, \n",
        "                '16 to 17 years' : 16,\n",
        "                '17 to 18 years' : 17, \n",
        "                '18 to 19 years' : 18, \n",
        "                '19 to 20 years' : 19, \n",
        "                '2 to 3 years' : 2,\n",
        "                '20 or more years' : 20, \n",
        "                '3 to 4 years' : 3, \n",
        "                '4 to 5 years' : 4, \n",
        "                '5 to 6 years' : 5, \n",
        "                '6 to 7 years' : 6, \n",
        "                '7 to 8 years' : 7, \n",
        "                '8 to 9 years' : 8, \n",
        "                '9 to 10 years' : 9, \n",
        "                'Less than a year' : 0}\n",
        "    \n",
        "    df_graph = df.reset_index()\n",
        "    df_graph['YearsCodedJob'] = df_graph['YearsCodedJob'].apply(lambda x: year_map[x])\n",
        "    df_graph['YearsCodedJob'] = pd.to_numeric(df_graph['YearsCodedJob'])\n",
        "    return df_graph"
      ],
      "execution_count": 0,
      "outputs": []
    },
    {
      "cell_type": "code",
      "metadata": {
        "id": "vyYBVk2XqU1z",
        "colab_type": "code",
        "colab": {}
      },
      "source": [
        ""
      ],
      "execution_count": 0,
      "outputs": []
    },
    {
      "cell_type": "code",
      "metadata": {
        "id": "9pJGrxI4W2Wh",
        "colab_type": "code",
        "outputId": "cc375a4d-75a5-4705-a78b-2ec1b5aed70e",
        "colab": {
          "base_uri": "https://localhost:8080/",
          "height": 437
        }
      },
      "source": [
        "comparison = useful_df.groupby(['man_or_woman','YearsCodedJob']).mean()\n",
        "comparison"
      ],
      "execution_count": 164,
      "outputs": [
        {
          "output_type": "execute_result",
          "data": {
            "text/html": [
              "<div>\n",
              "<style scoped>\n",
              "    .dataframe tbody tr th:only-of-type {\n",
              "        vertical-align: middle;\n",
              "    }\n",
              "\n",
              "    .dataframe tbody tr th {\n",
              "        vertical-align: top;\n",
              "    }\n",
              "\n",
              "    .dataframe thead th {\n",
              "        text-align: right;\n",
              "    }\n",
              "</style>\n",
              "<table border=\"1\" class=\"dataframe\">\n",
              "  <thead>\n",
              "    <tr style=\"text-align: right;\">\n",
              "      <th></th>\n",
              "      <th></th>\n",
              "      <th>CareerSatisfaction</th>\n",
              "      <th>JobSatisfaction</th>\n",
              "      <th>HoursPerWeek</th>\n",
              "      <th>Salary</th>\n",
              "    </tr>\n",
              "    <tr>\n",
              "      <th>man_or_woman</th>\n",
              "      <th>YearsCodedJob</th>\n",
              "      <th></th>\n",
              "      <th></th>\n",
              "      <th></th>\n",
              "      <th></th>\n",
              "    </tr>\n",
              "  </thead>\n",
              "  <tbody>\n",
              "    <tr>\n",
              "      <th rowspan=\"5\" valign=\"top\">man</th>\n",
              "      <th>1 to 2 years</th>\n",
              "      <td>7.257056</td>\n",
              "      <td>6.772003</td>\n",
              "      <td>3.695594</td>\n",
              "      <td>32878.414424</td>\n",
              "    </tr>\n",
              "    <tr>\n",
              "      <th>10 to 11 years</th>\n",
              "      <td>7.485114</td>\n",
              "      <td>7.096171</td>\n",
              "      <td>2.342155</td>\n",
              "      <td>67241.182522</td>\n",
              "    </tr>\n",
              "    <tr>\n",
              "      <th>11 to 12 years</th>\n",
              "      <td>7.481848</td>\n",
              "      <td>7.092749</td>\n",
              "      <td>2.344948</td>\n",
              "      <td>71447.122672</td>\n",
              "    </tr>\n",
              "    <tr>\n",
              "      <th>12 to 13 years</th>\n",
              "      <td>7.505597</td>\n",
              "      <td>6.984962</td>\n",
              "      <td>2.110619</td>\n",
              "      <td>83338.636797</td>\n",
              "    </tr>\n",
              "    <tr>\n",
              "      <th>13 to 14 years</th>\n",
              "      <td>7.508906</td>\n",
              "      <td>7.143590</td>\n",
              "      <td>2.854651</td>\n",
              "      <td>76924.368403</td>\n",
              "    </tr>\n",
              "    <tr>\n",
              "      <th>...</th>\n",
              "      <th>...</th>\n",
              "      <td>...</td>\n",
              "      <td>...</td>\n",
              "      <td>...</td>\n",
              "      <td>...</td>\n",
              "    </tr>\n",
              "    <tr>\n",
              "      <th rowspan=\"5\" valign=\"top\">woman</th>\n",
              "      <th>6 to 7 years</th>\n",
              "      <td>7.262136</td>\n",
              "      <td>6.980392</td>\n",
              "      <td>3.583333</td>\n",
              "      <td>65506.720452</td>\n",
              "    </tr>\n",
              "    <tr>\n",
              "      <th>7 to 8 years</th>\n",
              "      <td>6.973684</td>\n",
              "      <td>6.849315</td>\n",
              "      <td>2.703704</td>\n",
              "      <td>65896.225425</td>\n",
              "    </tr>\n",
              "    <tr>\n",
              "      <th>8 to 9 years</th>\n",
              "      <td>7.300000</td>\n",
              "      <td>7.000000</td>\n",
              "      <td>4.700000</td>\n",
              "      <td>67654.873063</td>\n",
              "    </tr>\n",
              "    <tr>\n",
              "      <th>9 to 10 years</th>\n",
              "      <td>7.500000</td>\n",
              "      <td>6.947368</td>\n",
              "      <td>4.500000</td>\n",
              "      <td>60365.170624</td>\n",
              "    </tr>\n",
              "    <tr>\n",
              "      <th>Less than a year</th>\n",
              "      <td>6.921053</td>\n",
              "      <td>6.953271</td>\n",
              "      <td>4.546392</td>\n",
              "      <td>41856.369708</td>\n",
              "    </tr>\n",
              "  </tbody>\n",
              "</table>\n",
              "<p>63 rows × 4 columns</p>\n",
              "</div>"
            ],
            "text/plain": [
              "                               CareerSatisfaction  ...        Salary\n",
              "man_or_woman YearsCodedJob                         ...              \n",
              "man          1 to 2 years                7.257056  ...  32878.414424\n",
              "             10 to 11 years              7.485114  ...  67241.182522\n",
              "             11 to 12 years              7.481848  ...  71447.122672\n",
              "             12 to 13 years              7.505597  ...  83338.636797\n",
              "             13 to 14 years              7.508906  ...  76924.368403\n",
              "...                                           ...  ...           ...\n",
              "woman        6 to 7 years                7.262136  ...  65506.720452\n",
              "             7 to 8 years                6.973684  ...  65896.225425\n",
              "             8 to 9 years                7.300000  ...  67654.873063\n",
              "             9 to 10 years               7.500000  ...  60365.170624\n",
              "             Less than a year            6.921053  ...  41856.369708\n",
              "\n",
              "[63 rows x 4 columns]"
            ]
          },
          "metadata": {
            "tags": []
          },
          "execution_count": 164
        }
      ]
    },
    {
      "cell_type": "code",
      "metadata": {
        "id": "a2hAxYKuqpnK",
        "colab_type": "code",
        "colab": {
          "base_uri": "https://localhost:8080/",
          "height": 407
        },
        "outputId": "5dde8542-2dff-4192-caf1-8272c5705bc4"
      },
      "source": [
        "comparison_graph = jobexperience(comparison)\n",
        "comparison_graph = comparison_graph.sort_values(by='YearsCodedJob')\n",
        "comparison_graph"
      ],
      "execution_count": 154,
      "outputs": [
        {
          "output_type": "execute_result",
          "data": {
            "text/html": [
              "<div>\n",
              "<style scoped>\n",
              "    .dataframe tbody tr th:only-of-type {\n",
              "        vertical-align: middle;\n",
              "    }\n",
              "\n",
              "    .dataframe tbody tr th {\n",
              "        vertical-align: top;\n",
              "    }\n",
              "\n",
              "    .dataframe thead th {\n",
              "        text-align: right;\n",
              "    }\n",
              "</style>\n",
              "<table border=\"1\" class=\"dataframe\">\n",
              "  <thead>\n",
              "    <tr style=\"text-align: right;\">\n",
              "      <th></th>\n",
              "      <th>man_or_woman</th>\n",
              "      <th>YearsCodedJob</th>\n",
              "      <th>CareerSatisfaction</th>\n",
              "      <th>JobSatisfaction</th>\n",
              "      <th>HoursPerWeek</th>\n",
              "      <th>Salary</th>\n",
              "    </tr>\n",
              "  </thead>\n",
              "  <tbody>\n",
              "    <tr>\n",
              "      <th>62</th>\n",
              "      <td>woman</td>\n",
              "      <td>0</td>\n",
              "      <td>6.921053</td>\n",
              "      <td>6.953271</td>\n",
              "      <td>4.546392</td>\n",
              "      <td>41856.369708</td>\n",
              "    </tr>\n",
              "    <tr>\n",
              "      <th>41</th>\n",
              "      <td>other</td>\n",
              "      <td>0</td>\n",
              "      <td>6.813717</td>\n",
              "      <td>6.704903</td>\n",
              "      <td>6.307453</td>\n",
              "      <td>28393.262019</td>\n",
              "    </tr>\n",
              "    <tr>\n",
              "      <th>20</th>\n",
              "      <td>man</td>\n",
              "      <td>0</td>\n",
              "      <td>7.127619</td>\n",
              "      <td>7.014334</td>\n",
              "      <td>3.738620</td>\n",
              "      <td>33149.316707</td>\n",
              "    </tr>\n",
              "    <tr>\n",
              "      <th>42</th>\n",
              "      <td>woman</td>\n",
              "      <td>1</td>\n",
              "      <td>7.270950</td>\n",
              "      <td>6.806818</td>\n",
              "      <td>3.389831</td>\n",
              "      <td>46109.787583</td>\n",
              "    </tr>\n",
              "    <tr>\n",
              "      <th>21</th>\n",
              "      <td>other</td>\n",
              "      <td>1</td>\n",
              "      <td>6.959665</td>\n",
              "      <td>6.596315</td>\n",
              "      <td>6.876897</td>\n",
              "      <td>31831.156999</td>\n",
              "    </tr>\n",
              "    <tr>\n",
              "      <th>...</th>\n",
              "      <td>...</td>\n",
              "      <td>...</td>\n",
              "      <td>...</td>\n",
              "      <td>...</td>\n",
              "      <td>...</td>\n",
              "      <td>...</td>\n",
              "    </tr>\n",
              "    <tr>\n",
              "      <th>10</th>\n",
              "      <td>man</td>\n",
              "      <td>19</td>\n",
              "      <td>7.607717</td>\n",
              "      <td>7.114754</td>\n",
              "      <td>2.727941</td>\n",
              "      <td>87468.852280</td>\n",
              "    </tr>\n",
              "    <tr>\n",
              "      <th>31</th>\n",
              "      <td>other</td>\n",
              "      <td>19</td>\n",
              "      <td>7.440000</td>\n",
              "      <td>7.265306</td>\n",
              "      <td>2.406250</td>\n",
              "      <td>96847.643098</td>\n",
              "    </tr>\n",
              "    <tr>\n",
              "      <th>54</th>\n",
              "      <td>woman</td>\n",
              "      <td>20</td>\n",
              "      <td>7.280702</td>\n",
              "      <td>7.027027</td>\n",
              "      <td>3.220000</td>\n",
              "      <td>110212.488936</td>\n",
              "    </tr>\n",
              "    <tr>\n",
              "      <th>12</th>\n",
              "      <td>man</td>\n",
              "      <td>20</td>\n",
              "      <td>7.815927</td>\n",
              "      <td>7.375391</td>\n",
              "      <td>2.772277</td>\n",
              "      <td>97519.109697</td>\n",
              "    </tr>\n",
              "    <tr>\n",
              "      <th>33</th>\n",
              "      <td>other</td>\n",
              "      <td>20</td>\n",
              "      <td>7.582160</td>\n",
              "      <td>7.258065</td>\n",
              "      <td>4.090395</td>\n",
              "      <td>98875.759652</td>\n",
              "    </tr>\n",
              "  </tbody>\n",
              "</table>\n",
              "<p>63 rows × 6 columns</p>\n",
              "</div>"
            ],
            "text/plain": [
              "   man_or_woman  YearsCodedJob  ...  HoursPerWeek         Salary\n",
              "62        woman              0  ...      4.546392   41856.369708\n",
              "41        other              0  ...      6.307453   28393.262019\n",
              "20          man              0  ...      3.738620   33149.316707\n",
              "42        woman              1  ...      3.389831   46109.787583\n",
              "21        other              1  ...      6.876897   31831.156999\n",
              "..          ...            ...  ...           ...            ...\n",
              "10          man             19  ...      2.727941   87468.852280\n",
              "31        other             19  ...      2.406250   96847.643098\n",
              "54        woman             20  ...      3.220000  110212.488936\n",
              "12          man             20  ...      2.772277   97519.109697\n",
              "33        other             20  ...      4.090395   98875.759652\n",
              "\n",
              "[63 rows x 6 columns]"
            ]
          },
          "metadata": {
            "tags": []
          },
          "execution_count": 154
        }
      ]
    },
    {
      "cell_type": "code",
      "metadata": {
        "id": "wYTrSbqAvmAd",
        "colab_type": "code",
        "outputId": "947f5b08-83ab-44e8-c6f9-77609de34615",
        "colab": {
          "base_uri": "https://localhost:8080/",
          "height": 407
        }
      },
      "source": [
        "# data for woman only\n",
        "\n",
        "woman = useful_df[useful_df['man_or_woman']=='woman']\n",
        "woman"
      ],
      "execution_count": 165,
      "outputs": [
        {
          "output_type": "execute_result",
          "data": {
            "text/html": [
              "<div>\n",
              "<style scoped>\n",
              "    .dataframe tbody tr th:only-of-type {\n",
              "        vertical-align: middle;\n",
              "    }\n",
              "\n",
              "    .dataframe tbody tr th {\n",
              "        vertical-align: top;\n",
              "    }\n",
              "\n",
              "    .dataframe thead th {\n",
              "        text-align: right;\n",
              "    }\n",
              "</style>\n",
              "<table border=\"1\" class=\"dataframe\">\n",
              "  <thead>\n",
              "    <tr style=\"text-align: right;\">\n",
              "      <th></th>\n",
              "      <th>Country</th>\n",
              "      <th>first_or_other</th>\n",
              "      <th>man_or_woman</th>\n",
              "      <th>YearsCodedJob</th>\n",
              "      <th>EmploymentStatus</th>\n",
              "      <th>CareerSatisfaction</th>\n",
              "      <th>JobSatisfaction</th>\n",
              "      <th>HoursPerWeek</th>\n",
              "      <th>Salary</th>\n",
              "    </tr>\n",
              "  </thead>\n",
              "  <tbody>\n",
              "    <tr>\n",
              "      <th>10</th>\n",
              "      <td>United States</td>\n",
              "      <td>american</td>\n",
              "      <td>woman</td>\n",
              "      <td>11 to 12 years</td>\n",
              "      <td>Employed full-time</td>\n",
              "      <td>8.0</td>\n",
              "      <td>9.0</td>\n",
              "      <td>NaN</td>\n",
              "      <td>NaN</td>\n",
              "    </tr>\n",
              "    <tr>\n",
              "      <th>13</th>\n",
              "      <td>Germany</td>\n",
              "      <td>euro</td>\n",
              "      <td>woman</td>\n",
              "      <td>15 to 16 years</td>\n",
              "      <td>Employed full-time</td>\n",
              "      <td>8.0</td>\n",
              "      <td>6.0</td>\n",
              "      <td>3.0</td>\n",
              "      <td>NaN</td>\n",
              "    </tr>\n",
              "    <tr>\n",
              "      <th>103</th>\n",
              "      <td>United States</td>\n",
              "      <td>american</td>\n",
              "      <td>woman</td>\n",
              "      <td>1 to 2 years</td>\n",
              "      <td>Employed full-time</td>\n",
              "      <td>10.0</td>\n",
              "      <td>10.0</td>\n",
              "      <td>NaN</td>\n",
              "      <td>51000.000000</td>\n",
              "    </tr>\n",
              "    <tr>\n",
              "      <th>165</th>\n",
              "      <td>Germany</td>\n",
              "      <td>euro</td>\n",
              "      <td>woman</td>\n",
              "      <td>8 to 9 years</td>\n",
              "      <td>Employed full-time</td>\n",
              "      <td>7.0</td>\n",
              "      <td>9.0</td>\n",
              "      <td>NaN</td>\n",
              "      <td>NaN</td>\n",
              "    </tr>\n",
              "    <tr>\n",
              "      <th>214</th>\n",
              "      <td>Germany</td>\n",
              "      <td>euro</td>\n",
              "      <td>woman</td>\n",
              "      <td>4 to 5 years</td>\n",
              "      <td>Employed full-time</td>\n",
              "      <td>5.0</td>\n",
              "      <td>3.0</td>\n",
              "      <td>NaN</td>\n",
              "      <td>51612.903226</td>\n",
              "    </tr>\n",
              "    <tr>\n",
              "      <th>...</th>\n",
              "      <td>...</td>\n",
              "      <td>...</td>\n",
              "      <td>...</td>\n",
              "      <td>...</td>\n",
              "      <td>...</td>\n",
              "      <td>...</td>\n",
              "      <td>...</td>\n",
              "      <td>...</td>\n",
              "      <td>...</td>\n",
              "    </tr>\n",
              "    <tr>\n",
              "      <th>51321</th>\n",
              "      <td>Malaysia</td>\n",
              "      <td>other</td>\n",
              "      <td>woman</td>\n",
              "      <td>NaN</td>\n",
              "      <td>Independent contractor, freelancer, or self-em...</td>\n",
              "      <td>NaN</td>\n",
              "      <td>NaN</td>\n",
              "      <td>NaN</td>\n",
              "      <td>NaN</td>\n",
              "    </tr>\n",
              "    <tr>\n",
              "      <th>51345</th>\n",
              "      <td>United Kingdom</td>\n",
              "      <td>uk</td>\n",
              "      <td>woman</td>\n",
              "      <td>20 or more years</td>\n",
              "      <td>Employed full-time</td>\n",
              "      <td>8.0</td>\n",
              "      <td>5.0</td>\n",
              "      <td>1.0</td>\n",
              "      <td>NaN</td>\n",
              "    </tr>\n",
              "    <tr>\n",
              "      <th>51356</th>\n",
              "      <td>Portugal</td>\n",
              "      <td>other</td>\n",
              "      <td>woman</td>\n",
              "      <td>1 to 2 years</td>\n",
              "      <td>Employed full-time</td>\n",
              "      <td>8.0</td>\n",
              "      <td>2.0</td>\n",
              "      <td>3.0</td>\n",
              "      <td>15483.870968</td>\n",
              "    </tr>\n",
              "    <tr>\n",
              "      <th>51367</th>\n",
              "      <td>Spain</td>\n",
              "      <td>euro</td>\n",
              "      <td>woman</td>\n",
              "      <td>NaN</td>\n",
              "      <td>Employed part-time</td>\n",
              "      <td>NaN</td>\n",
              "      <td>NaN</td>\n",
              "      <td>1.0</td>\n",
              "      <td>NaN</td>\n",
              "    </tr>\n",
              "    <tr>\n",
              "      <th>51385</th>\n",
              "      <td>United Kingdom</td>\n",
              "      <td>uk</td>\n",
              "      <td>woman</td>\n",
              "      <td>NaN</td>\n",
              "      <td>Employed full-time</td>\n",
              "      <td>7.0</td>\n",
              "      <td>7.0</td>\n",
              "      <td>4.0</td>\n",
              "      <td>NaN</td>\n",
              "    </tr>\n",
              "  </tbody>\n",
              "</table>\n",
              "<p>2600 rows × 9 columns</p>\n",
              "</div>"
            ],
            "text/plain": [
              "              Country first_or_other  ... HoursPerWeek        Salary\n",
              "10      United States       american  ...          NaN           NaN\n",
              "13            Germany           euro  ...          3.0           NaN\n",
              "103     United States       american  ...          NaN  51000.000000\n",
              "165           Germany           euro  ...          NaN           NaN\n",
              "214           Germany           euro  ...          NaN  51612.903226\n",
              "...               ...            ...  ...          ...           ...\n",
              "51321        Malaysia          other  ...          NaN           NaN\n",
              "51345  United Kingdom             uk  ...          1.0           NaN\n",
              "51356        Portugal          other  ...          3.0  15483.870968\n",
              "51367           Spain           euro  ...          1.0           NaN\n",
              "51385  United Kingdom             uk  ...          4.0           NaN\n",
              "\n",
              "[2600 rows x 9 columns]"
            ]
          },
          "metadata": {
            "tags": []
          },
          "execution_count": 165
        }
      ]
    },
    {
      "cell_type": "code",
      "metadata": {
        "id": "dIlcBWnL1S-W",
        "colab_type": "code",
        "colab": {
          "base_uri": "https://localhost:8080/",
          "height": 407
        },
        "outputId": "5ae96aca-03cc-4e8c-f842-d47de45fc992"
      },
      "source": [
        "comparison2 = woman.groupby(['first_or_other','YearsCodedJob']).mean()\n",
        "comparison_graph2 = jobexperience(comparison2)\n",
        "comparison_graph2 = comparison_graph2.sort_values(by='YearsCodedJob')\n",
        "comparison_graph2"
      ],
      "execution_count": 174,
      "outputs": [
        {
          "output_type": "execute_result",
          "data": {
            "text/html": [
              "<div>\n",
              "<style scoped>\n",
              "    .dataframe tbody tr th:only-of-type {\n",
              "        vertical-align: middle;\n",
              "    }\n",
              "\n",
              "    .dataframe tbody tr th {\n",
              "        vertical-align: top;\n",
              "    }\n",
              "\n",
              "    .dataframe thead th {\n",
              "        text-align: right;\n",
              "    }\n",
              "</style>\n",
              "<table border=\"1\" class=\"dataframe\">\n",
              "  <thead>\n",
              "    <tr style=\"text-align: right;\">\n",
              "      <th></th>\n",
              "      <th>first_or_other</th>\n",
              "      <th>YearsCodedJob</th>\n",
              "      <th>CareerSatisfaction</th>\n",
              "      <th>JobSatisfaction</th>\n",
              "      <th>HoursPerWeek</th>\n",
              "      <th>Salary</th>\n",
              "    </tr>\n",
              "  </thead>\n",
              "  <tbody>\n",
              "    <tr>\n",
              "      <th>94</th>\n",
              "      <td>uk</td>\n",
              "      <td>0</td>\n",
              "      <td>7.571429</td>\n",
              "      <td>7.692308</td>\n",
              "      <td>2.571429</td>\n",
              "      <td>30675.000000</td>\n",
              "    </tr>\n",
              "    <tr>\n",
              "      <th>73</th>\n",
              "      <td>other</td>\n",
              "      <td>0</td>\n",
              "      <td>6.857143</td>\n",
              "      <td>7.015625</td>\n",
              "      <td>4.870968</td>\n",
              "      <td>18219.997432</td>\n",
              "    </tr>\n",
              "    <tr>\n",
              "      <th>52</th>\n",
              "      <td>euro</td>\n",
              "      <td>0</td>\n",
              "      <td>7.033333</td>\n",
              "      <td>7.827586</td>\n",
              "      <td>2.100000</td>\n",
              "      <td>20405.763513</td>\n",
              "    </tr>\n",
              "    <tr>\n",
              "      <th>32</th>\n",
              "      <td>asia</td>\n",
              "      <td>0</td>\n",
              "      <td>4.972973</td>\n",
              "      <td>4.971429</td>\n",
              "      <td>5.478261</td>\n",
              "      <td>2011.470416</td>\n",
              "    </tr>\n",
              "    <tr>\n",
              "      <th>20</th>\n",
              "      <td>american</td>\n",
              "      <td>0</td>\n",
              "      <td>7.753247</td>\n",
              "      <td>7.369863</td>\n",
              "      <td>4.807692</td>\n",
              "      <td>63479.713805</td>\n",
              "    </tr>\n",
              "    <tr>\n",
              "      <th>...</th>\n",
              "      <td>...</td>\n",
              "      <td>...</td>\n",
              "      <td>...</td>\n",
              "      <td>...</td>\n",
              "      <td>...</td>\n",
              "      <td>...</td>\n",
              "    </tr>\n",
              "    <tr>\n",
              "      <th>42</th>\n",
              "      <td>euro</td>\n",
              "      <td>19</td>\n",
              "      <td>7.000000</td>\n",
              "      <td>7.000000</td>\n",
              "      <td>NaN</td>\n",
              "      <td>53763.440860</td>\n",
              "    </tr>\n",
              "    <tr>\n",
              "      <th>44</th>\n",
              "      <td>euro</td>\n",
              "      <td>20</td>\n",
              "      <td>7.250000</td>\n",
              "      <td>6.750000</td>\n",
              "      <td>0.500000</td>\n",
              "      <td>NaN</td>\n",
              "    </tr>\n",
              "    <tr>\n",
              "      <th>12</th>\n",
              "      <td>american</td>\n",
              "      <td>20</td>\n",
              "      <td>7.275000</td>\n",
              "      <td>6.897436</td>\n",
              "      <td>3.552632</td>\n",
              "      <td>116812.737013</td>\n",
              "    </tr>\n",
              "    <tr>\n",
              "      <th>86</th>\n",
              "      <td>uk</td>\n",
              "      <td>20</td>\n",
              "      <td>7.272727</td>\n",
              "      <td>7.636364</td>\n",
              "      <td>1.000000</td>\n",
              "      <td>52812.500000</td>\n",
              "    </tr>\n",
              "    <tr>\n",
              "      <th>65</th>\n",
              "      <td>other</td>\n",
              "      <td>20</td>\n",
              "      <td>7.315789</td>\n",
              "      <td>7.277778</td>\n",
              "      <td>3.500000</td>\n",
              "      <td>86876.832845</td>\n",
              "    </tr>\n",
              "  </tbody>\n",
              "</table>\n",
              "<p>95 rows × 6 columns</p>\n",
              "</div>"
            ],
            "text/plain": [
              "   first_or_other  YearsCodedJob  ...  HoursPerWeek         Salary\n",
              "94             uk              0  ...      2.571429   30675.000000\n",
              "73          other              0  ...      4.870968   18219.997432\n",
              "52           euro              0  ...      2.100000   20405.763513\n",
              "32           asia              0  ...      5.478261    2011.470416\n",
              "20       american              0  ...      4.807692   63479.713805\n",
              "..            ...            ...  ...           ...            ...\n",
              "42           euro             19  ...           NaN   53763.440860\n",
              "44           euro             20  ...      0.500000            NaN\n",
              "12       american             20  ...      3.552632  116812.737013\n",
              "86             uk             20  ...      1.000000   52812.500000\n",
              "65          other             20  ...      3.500000   86876.832845\n",
              "\n",
              "[95 rows x 6 columns]"
            ]
          },
          "metadata": {
            "tags": []
          },
          "execution_count": 174
        }
      ]
    },
    {
      "cell_type": "markdown",
      "metadata": {
        "id": "_J9F9Girq7KC",
        "colab_type": "text"
      },
      "source": [
        "**Results Evaluation**"
      ]
    },
    {
      "cell_type": "markdown",
      "metadata": {
        "id": "-NdYstg3rATi",
        "colab_type": "text"
      },
      "source": [
        "Question 1: what is the salary difference between man and woman?"
      ]
    },
    {
      "cell_type": "code",
      "metadata": {
        "id": "UjZiuoEorvrJ",
        "colab_type": "code",
        "colab": {}
      },
      "source": [
        "comparison_graph.set_index(comparison_graph['YearsCodedJob'], inplace=True)"
      ],
      "execution_count": 0,
      "outputs": []
    },
    {
      "cell_type": "code",
      "metadata": {
        "id": "oN8puQqerIPV",
        "colab_type": "code",
        "outputId": "af1b740c-1d10-406b-bf9f-6ab09d447e69",
        "colab": {
          "base_uri": "https://localhost:8080/",
          "height": 345
        }
      },
      "source": [
        "comparison_graph.groupby('man_or_woman')['Salary'].plot(legend=True)\n",
        "plt.title(\"Salary Comparison between woman and man\");\n",
        "plt.xlabel('Year of Experience')\n",
        "plt.ylabel('Average Salary')\n",
        "plt.xticks(rotation=90)"
      ],
      "execution_count": 130,
      "outputs": [
        {
          "output_type": "execute_result",
          "data": {
            "text/plain": [
              "(array([-2.5,  0. ,  2.5,  5. ,  7.5, 10. , 12.5, 15. , 17.5, 20. , 22.5]),\n",
              " <a list of 11 Text major ticklabel objects>)"
            ]
          },
          "metadata": {
            "tags": []
          },
          "execution_count": 130
        },
        {
          "output_type": "display_data",
          "data": {
            "image/png": "[encoded data removed]",
            "text/plain": [
              "<Figure size 432x288 with 1 Axes>"
            ]
          },
          "metadata": {
            "tags": [],
            "needs_background": "light"
          }
        }
      ]
    },
    {
      "cell_type": "markdown",
      "metadata": {
        "id": "N0XQbrVn3ZF9",
        "colab_type": "text"
      },
      "source": [
        "**Question 2: Does women satisfy their job as man?**"
      ]
    },
    {
      "cell_type": "code",
      "metadata": {
        "id": "LhJkEcWA3l7D",
        "colab_type": "code",
        "colab": {
          "base_uri": "https://localhost:8080/",
          "height": 108
        },
        "outputId": "b48b4922-60c5-4d7a-d0b0-039b07f18dc2"
      },
      "source": [
        "comparison_graph.groupby('man_or_woman').mean().CareerSatisfaction"
      ],
      "execution_count": 182,
      "outputs": [
        {
          "output_type": "execute_result",
          "data": {
            "text/plain": [
              "man_or_woman\n",
              "man      7.467491\n",
              "other    7.299948\n",
              "woman    7.226931\n",
              "Name: CareerSatisfaction, dtype: float64"
            ]
          },
          "metadata": {
            "tags": []
          },
          "execution_count": 182
        }
      ]
    },
    {
      "cell_type": "code",
      "metadata": {
        "id": "jhKDAh0R4TZG",
        "colab_type": "code",
        "colab": {
          "base_uri": "https://localhost:8080/",
          "height": 108
        },
        "outputId": "f278fbac-1dfa-45dc-a925-153aa2b94d5c"
      },
      "source": [
        "comparison_graph.groupby('man_or_woman').mean().JobSatisfaction"
      ],
      "execution_count": 183,
      "outputs": [
        {
          "output_type": "execute_result",
          "data": {
            "text/plain": [
              "man_or_woman\n",
              "man      7.065211\n",
              "other    6.991607\n",
              "woman    7.003269\n",
              "Name: JobSatisfaction, dtype: float64"
            ]
          },
          "metadata": {
            "tags": []
          },
          "execution_count": 183
        }
      ]
    },
    {
      "cell_type": "code",
      "metadata": {
        "id": "mZaqESfW4bvi",
        "colab_type": "code",
        "colab": {
          "base_uri": "https://localhost:8080/",
          "height": 108
        },
        "outputId": "98be85da-2c5d-4fcd-8597-1bd662f45843"
      },
      "source": [
        "comparison_graph.groupby('man_or_woman').mean().Salary/50"
      ],
      "execution_count": 184,
      "outputs": [
        {
          "output_type": "execute_result",
          "data": {
            "text/plain": [
              "man_or_woman\n",
              "man      1331.003288\n",
              "other    1322.345800\n",
              "woman    1338.302131\n",
              "Name: Salary, dtype: float64"
            ]
          },
          "metadata": {
            "tags": []
          },
          "execution_count": 184
        }
      ]
    },
    {
      "cell_type": "code",
      "metadata": {
        "id": "rNUrtLvO4hkR",
        "colab_type": "code",
        "colab": {
          "base_uri": "https://localhost:8080/",
          "height": 328
        },
        "outputId": "7c612cd3-6688-4587-9492-79017923eb57"
      },
      "source": [
        "plt.scatter(comparison.groupby('man_or_woman').mean().CareerSatisfaction, comparison.groupby('man_or_woman').mean().JobSatisfaction, comparison.groupby('man_or_woman').mean().Salary/50, c=['red','green','blue'])\n",
        "plt.title('Comparison of Career and Job Satisfaction\\n(Red: man; Green: Other; Blue: woman)')\n",
        "plt.xlabel('Career Satisfaction')\n",
        "plt.ylabel('Job Satisfaction')"
      ],
      "execution_count": 185,
      "outputs": [
        {
          "output_type": "execute_result",
          "data": {
            "text/plain": [
              "Text(0, 0.5, 'Job Satisfaction')"
            ]
          },
          "metadata": {
            "tags": []
          },
          "execution_count": 185
        },
        {
          "output_type": "display_data",
          "data": {
            "image/png": "[encoded data removed]",
            "text/plain": [
              "<Figure size 432x288 with 1 Axes>"
            ]
          },
          "metadata": {
            "tags": [],
            "needs_background": "light"
          }
        }
      ]
    },
    {
      "cell_type": "markdown",
      "metadata": {
        "id": "q4nQtIkWvGnF",
        "colab_type": "text"
      },
      "source": [
        "**Question 3: which country offer woman higher salary?**"
      ]
    },
    {
      "cell_type": "code",
      "metadata": {
        "id": "DVX8ccaP0bGF",
        "colab_type": "code",
        "colab": {
          "base_uri": "https://localhost:8080/",
          "height": 313
        },
        "outputId": "7c593964-848f-4383-abe3-379815be9fdb"
      },
      "source": [
        "comparison_graph2.set_index(comparison_graph2['YearsCodedJob'], inplace=True)\n",
        "comparison_graph2.groupby('first_or_other')['Salary'].plot(legend=True)\n",
        "plt.title(\"Woman Salary Comparison between different countries\");\n",
        "plt.xlabel('YearsCodedJob')\n",
        "plt.ylabel('Average Salary')"
      ],
      "execution_count": 181,
      "outputs": [
        {
          "output_type": "execute_result",
          "data": {
            "text/plain": [
              "Text(0, 0.5, 'Average Salary')"
            ]
          },
          "metadata": {
            "tags": []
          },
          "execution_count": 181
        },
        {
          "output_type": "display_data",
          "data": {
            "image/png": "[encoded data removed]",
            "text/plain": [
              "<Figure size 432x288 with 1 Axes>"
            ]
          },
          "metadata": {
            "tags": [],
            "needs_background": "light"
          }
        }
      ]
    },
    {
      "cell_type": "markdown",
      "metadata": {
        "id": "SfI-odA25Nsu",
        "colab_type": "text"
      },
      "source": [
        "# Conclusion"
      ]
    },
    {
      "cell_type": "markdown",
      "metadata": {
        "id": "z9J0UP9D5Ry0",
        "colab_type": "text"
      },
      "source": [
        "\n",
        "Overall, based on the survey in 2017 from Stack Overflow, there are much less women as a programmer than men. That is, ~60% men working as a programmer compared with only ~0.6% women. Other answers to the three questions are as follows. \n",
        "*   Salary for the first 15 years, there is no big difference between man and woman. But after 15 years, man's salary is higher than woman. \n",
        "*   Men feels more statisfied with their job and career compared with women. \n",
        "*   US provides the highest salary for women. UK, Europe and other countries offer similar salary. Asia provided the least salary. This conclusion might be doubtful becauce the lack of data for Asia woman programmers. \n",
        "\n",
        "\n"
      ]
    }
  ]
}